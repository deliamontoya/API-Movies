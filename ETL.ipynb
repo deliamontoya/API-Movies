{
 "cells": [
  {
   "cell_type": "markdown",
   "metadata": {},
   "source": [
    "Importing libraries"
   ]
  },
  {
   "cell_type": "code",
   "execution_count": 1,
   "metadata": {},
   "outputs": [],
   "source": [
    "import numpy as np\n",
    "import matplotlib.pyplot as plt\n",
    "import pandas as pd\n",
    "import json\n",
    "import re\n",
    "from json.decoder import JSONDecodeError\n",
    "import datetime"
   ]
  },
  {
   "cell_type": "markdown",
   "metadata": {},
   "source": [
    "Reading CSV Files"
   ]
  },
  {
   "cell_type": "code",
   "execution_count": null,
   "metadata": {},
   "outputs": [],
   "source": [
    "import import_ipynb\n",
    "import funciones \n",
    "\n",
    "class Films:\n",
    "    \n",
    "    def __init__(self):\n",
    "        self.movies_final = self.init_movies()\n",
    "        self.credits_final = self.init_credits()\n",
    "\n",
    "    def init_movies(self):\n",
    "        movies_dataset = pd.read_csv('resources/movies_dataset.csv',  encoding='utf8')\n",
    "        movies_df_english_idx = movies_dataset[movies_dataset[\"spoken_languages\"].str.contains(\"English|Español\") == False].index\n",
    "        movies_pre = movies_dataset.drop(movies_df_english_idx)\n",
    "        movies_pre.drop_duplicates(inplace=True)\n",
    "        movies_final = funciones.format_dataset_movies(movies_pre)\n",
    "        return movies_final\n",
    "        \n",
    "    def init_credits(self):\n",
    "        credits_dataset = pd.read_csv('resources/credits.csv',  encoding='latin-1')\n",
    "        credits_df_idx = credits_dataset[credits_dataset[\"id\"].isnull()].index\n",
    "        credits_pre = credits_dataset.drop(credits_df_idx)\n",
    "        credits_pre.drop_duplicates(inplace=True)\n",
    "        credits_final = funciones.format_dataset_credits(credits_pre)\n",
    "        return credits_final\n",
    "\n",
    "    def get_actor_by_credits(self, credits, target_name, search_id_result = []):\n",
    "        target_key = \"name\"\n",
    "        count = 0\n",
    "\n",
    "        for index, row in credits.iterrows():\n",
    "            search_name_result = []\n",
    "            flag = False\n",
    "            funciones.json_full_search(target_key, row['cast_json'], search_name_result)\n",
    "            for name in search_name_result:\n",
    "                search_director_name = []\n",
    "                if(name == target_name):\n",
    "                    funciones.json_job_search(\"job\", \"Director\", target_name, row['crew_json'], search_director_name)\n",
    "                    if len(search_director_name) > 0:\n",
    "                        for director in search_director_name:\n",
    "                            if (director == target_name):\n",
    "                                flag = False;\n",
    "                            else:\n",
    "                                flag = True\n",
    "                    else:\n",
    "                        flag = True\n",
    "            if flag == True:\n",
    "                count = count + 1\n",
    "                search_id_result.append(row['id'])\n",
    "\n",
    "        return count\n",
    "    \n",
    "    def get_actor(self, actor_name):\n",
    "        search_id_result = []\n",
    "        films = self.get_actor_by_credits(self.credits_final, actor_name, search_id_result)\n",
    "        return films\n",
    "        "
   ]
  },
  {
   "cell_type": "code",
   "execution_count": 19,
   "metadata": {},
   "outputs": [
    {
     "name": "stdout",
     "output_type": "stream",
     "text": [
      "Starting ...\n"
     ]
    }
   ],
   "source": [
    "film = Films()"
   ]
  },
  {
   "cell_type": "code",
   "execution_count": null,
   "metadata": {},
   "outputs": [
    {
     "name": "stdout",
     "output_type": "stream",
     "text": [
      "Numero de filmaciones son:  18\n"
     ]
    }
   ],
   "source": [
    "#print(\"Numero de filmaciones son: \", film.get_actor(\"Salma Hayek\"))\n"
   ]
  }
 ],
 "metadata": {
  "kernelspec": {
   "display_name": "Python 3",
   "language": "python",
   "name": "python3"
  },
  "language_info": {
   "codemirror_mode": {
    "name": "ipython",
    "version": 3
   },
   "file_extension": ".py",
   "mimetype": "text/x-python",
   "name": "python",
   "nbconvert_exporter": "python",
   "pygments_lexer": "ipython3",
   "version": "3.11.9"
  }
 },
 "nbformat": 4,
 "nbformat_minor": 2
}
