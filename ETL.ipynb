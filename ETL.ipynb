{
 "cells": [
  {
   "cell_type": "markdown",
   "metadata": {},
   "source": [
    "Importing libraries"
   ]
  },
  {
   "cell_type": "code",
   "execution_count": 1,
   "metadata": {},
   "outputs": [],
   "source": [
    "import numpy as np\n",
    "import matplotlib.pyplot as plt\n",
    "import pandas as pd\n",
    "import json\n",
    "import re\n",
    "from json.decoder import JSONDecodeError\n",
    "import datetime"
   ]
  },
  {
   "cell_type": "markdown",
   "metadata": {},
   "source": [
    "Reading CSV Files"
   ]
  },
  {
   "cell_type": "code",
   "execution_count": null,
   "metadata": {},
   "outputs": [],
   "source": [
    "import import_ipynb\n",
    "import funciones \n",
    "\n",
    "class Films:\n",
    "    \n",
    "    def __init__(self):\n",
    "        self.movies_final = self.init_movies()\n",
    "        self.credits_final = self.init_credits()\n",
    "\n",
    "    def init_movies(self):\n",
    "        movies_dataset = pd.read_csv('resources/movies_dataset.csv',  encoding='utf8')\n",
    "        movies_df_english_idx = movies_dataset[movies_dataset[\"spoken_languages\"].str.contains(\"English|Español\") == False].index\n",
    "        movies_pre = movies_dataset.drop(movies_df_english_idx)\n",
    "        movies_pre.drop_duplicates(inplace=True)\n",
    "        movies_final = funciones.format_dataset_movies(movies_pre)\n",
    "        return movies_final\n",
    "        \n",
    "    def init_credits(self):\n",
    "        credits_dataset = pd.read_csv('resources/credits.csv',  encoding='latin-1')\n",
    "        credits_df_idx = credits_dataset[credits_dataset[\"id\"].isnull()].index\n",
    "        credits_pre = credits_dataset.drop(credits_df_idx)\n",
    "        credits_pre.drop_duplicates(inplace=True)\n",
    "        credits_final = funciones.format_dataset_credits(credits_pre)\n",
    "        return credits_final\n",
    "\n",
    "    def get_actor_by_credits(self, credits, target_name, search_id_result = []):\n",
    "        target_key = \"name\"\n",
    "        count = 0\n",
    "\n",
    "        for index, row in credits.iterrows():\n",
    "            search_name_result = []\n",
    "            flag = False\n",
    "            funciones.json_full_search(target_key, row['cast_json'], search_name_result)\n",
    "            for name in search_name_result:\n",
    "                search_director_name = []\n",
    "                if(name == target_name):\n",
    "                    funciones.json_job_search(\"job\", \"Director\", target_name, row['crew_json'], search_director_name)\n",
    "                    if len(search_director_name) > 0:\n",
    "                        for director in search_director_name:\n",
    "                            if (director == target_name):\n",
    "                                flag = False;\n",
    "                            else:\n",
    "                                flag = True\n",
    "                    else:\n",
    "                        flag = True\n",
    "            if flag == True:\n",
    "                count = count + 1\n",
    "                search_id_result.append(row['id'])\n",
    "\n",
    "        return count\n",
    "    \n",
    "    def get_actor(self, actor_name):\n",
    "        search_id_result = []\n",
    "        actor = Actor()\n",
    "        actor.set_no_films(self.get_actor_by_credits(self.credits_final, actor_name, search_id_result))\n",
    "        actor.set_name(actor_name)\n",
    "\n",
    "        actor_return = []\n",
    "        for id in search_id_result:\n",
    "            id_str = \"{}\".format(id)\n",
    "            row = self.movies_final[self.movies_final['id'] == id_str]            \n",
    "            actor_return.append(row.retorno.values)\n",
    "\n",
    "        my_return_series = pd.Series(actor_return)\n",
    "        actor.set_promedio(my_return_series.mean())\n",
    "        print (\"The Actor, \", actor_name, \"have been participed in the number of films=\",films, \" Retorno is: \", mySeries.mean())\n",
    "\n",
    "        actor.set_retorno(my_return_series.sum())\n",
    "        \n",
    "        return actor\n",
    "        "
   ]
  },
  {
   "cell_type": "code",
   "execution_count": null,
   "metadata": {},
   "outputs": [],
   "source": [
    "class Actor:\n",
    "    def __init__(self):\n",
    "        self.no_films=0\n",
    "        self.name=\"\"\n",
    "        self.retorno=0\n",
    "        self.promedio=0\n",
    "    \n",
    "    def set_no_films(self, value):\n",
    "        self.no_films = value\n",
    "\n",
    "    def set_name(self, value):\n",
    "        self.name = value\n",
    "\n",
    "    def set_retorno(self, value):\n",
    "        self.retorno = value\n",
    "\n",
    "    def set_promedio(self, value):\n",
    "        self.promedio = value\n",
    "\n",
    "    def get_no_films(self):\n",
    "        return self.no_films\n",
    "\n",
    "    def get_name(self):\n",
    "        return self.name\n",
    "\n",
    "    def get_retorno(self):\n",
    "        return self.retorno\n",
    "\n",
    "    def get_promedio(self):\n",
    "        return self.promedio\n",
    "\n",
    "    def to_string_actor_info():\n",
    "        return \"El actor \"+self.name+\" ha participado de \"+self.no_films+\" cantidad de filmaciones, el mismo ha conseguido un retorno de \"+ self.retorno+ \" con un promedio de \"+self.promedio+ \" por filmación\""
   ]
  },
  {
   "cell_type": "code",
   "execution_count": null,
   "metadata": {},
   "outputs": [
    {
     "name": "stdout",
     "output_type": "stream",
     "text": [
      "Starting ...\n"
     ]
    }
   ],
   "source": [
    "film = Films()\n"
   ]
  },
  {
   "cell_type": "code",
   "execution_count": null,
   "metadata": {},
   "outputs": [
    {
     "name": "stdout",
     "output_type": "stream",
     "text": [
      "Numero de filmaciones son:  18\n"
     ]
    }
   ],
   "source": [
    "#print(\"Numero de filmaciones son: \", film.get_actor(\"Salma Hayek\"))\n"
   ]
  }
 ],
 "metadata": {
  "kernelspec": {
   "display_name": "Python 3",
   "language": "python",
   "name": "python3"
  },
  "language_info": {
   "codemirror_mode": {
    "name": "ipython",
    "version": 3
   },
   "file_extension": ".py",
   "mimetype": "text/x-python",
   "name": "python",
   "nbconvert_exporter": "python",
   "pygments_lexer": "ipython3",
   "version": "3.11.9"
  }
 },
 "nbformat": 4,
 "nbformat_minor": 2
}
